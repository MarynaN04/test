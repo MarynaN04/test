{
  "nbformat": 4,
  "nbformat_minor": 0,
  "metadata": {
    "colab": {
      "provenance": [],
      "toc_visible": true,
      "authorship_tag": "ABX9TyMK9eM5TFJVWB21YD4ZkB84",
      "include_colab_link": true
    },
    "kernelspec": {
      "name": "python3",
      "display_name": "Python 3"
    },
    "language_info": {
      "name": "python"
    }
  },
  "cells": [
    {
      "cell_type": "markdown",
      "metadata": {
        "id": "view-in-github",
        "colab_type": "text"
      },
      "source": [
        "<a href=\"https://colab.research.google.com/github/MarynaN04/test/blob/main/Lecture_2.ipynb\" target=\"_parent\"><img src=\"https://colab.research.google.com/assets/colab-badge.svg\" alt=\"Open In Colab\"/></a>"
      ]
    },
    {
      "cell_type": "markdown",
      "source": [
        "## **Lecture 2 Core Python** \n",
        "1. Python objects\n",
        "2. Python syntax. Code style. PEP8\n",
        "3. Python built-in data types (not only): lists, tuples, sets, strings (not only).       \n",
        "Mutable and immutable objects  \n",
        "4. Python operators \n",
        "5. Control flow statements: conditional operators, loop statements, range() \n",
        "6. Functions \n",
        "7. Useful references "
      ],
      "metadata": {
        "id": "RHmVS0xTcJho"
      }
    },
    {
      "cell_type": "markdown",
      "source": [
        "## 1. Python objects\n",
        "---\n",
        "Every item of data in a Python program can be described by the abstract term\n",
        "object, and you manipulate objects using symbolic names called variables\n",
        "\n",
        "![image.png](data:image/png;base64,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)\n",
        "\n",
        "Figure 1\n",
        "\n",
        "Since everything is an object in Python programming, data types are actually classes and variables are instances (object) of these classes.\n"
      ],
      "metadata": {
        "id": "O9OShNnCCwlc"
      }
    },
    {
      "cell_type": "markdown",
      "source": [
        "## 2. Python syntax. Code style. PEP8\n",
        "Comments. Comments can be used to make the code more readable."
      ],
      "metadata": {
        "id": "hB2RNepS_rJn"
      }
    },
    {
      "cell_type": "code",
      "source": [
        "# It's one-line comment. Comments starts with a #, and Python will ignore them\n"
      ],
      "metadata": {
        "id": "yqRbQ6YFA50G"
      },
      "execution_count": null,
      "outputs": []
    },
    {
      "cell_type": "code",
      "source": [
        "# It's multiline comment. \n",
        "# Comments starts with a #, and Python will ignore them"
      ],
      "metadata": {
        "id": "NXS4OT25BudW"
      },
      "execution_count": null,
      "outputs": []
    },
    {
      "cell_type": "code",
      "source": [
        "\"\"\"\n",
        "This is a comment\n",
        "written in\n",
        "more than just one line\n",
        "\"\"\"\n",
        "print(\"Hello, World!\")\n"
      ],
      "metadata": {
        "colab": {
          "base_uri": "https://localhost:8080/"
        },
        "id": "1SgZugqrDSvC",
        "outputId": "2ed1ebe7-7f95-4538-a2fa-90674acac548"
      },
      "execution_count": null,
      "outputs": [
        {
          "output_type": "stream",
          "name": "stdout",
          "text": [
            "Hello, World!\n"
          ]
        }
      ]
    },
    {
      "cell_type": "markdown",
      "source": [
        "Names of variables\n",
        "\n",
        "---\n",
        "Name of variable **must** start with a letter or the underscore character\n",
        "\n",
        "Multi-word name of variable:                                                     \n",
        "\n",
        "*   **Camel Case**: Second and subsequent words are capitalized, to make word boundaries easier to see                                                          \n",
        "Example: numberOfLessons\n",
        "*   **Pascal Case**: Identical to Camel Case, except the first word is also capitalized                                                     \n",
        "Example: NumberOfLessons\n",
        "*   **Snake Case**: Words are separated by underscores.                              \n",
        "Example: number_of_lessons\n",
        "  "
      ],
      "metadata": {
        "id": "7M9jszXwIdRw"
      }
    },
    {
      "cell_type": "markdown",
      "source": [],
      "metadata": {
        "id": "4g5rk0jdE_6L"
      }
    },
    {
      "cell_type": "code",
      "source": [
        "help(\"keywords\")"
      ],
      "metadata": {
        "colab": {
          "base_uri": "https://localhost:8080/"
        },
        "id": "0TnClxwobcOc",
        "outputId": "cce34b09-9341-4bb1-a04a-61d01402fcfc"
      },
      "execution_count": null,
      "outputs": [
        {
          "output_type": "stream",
          "name": "stdout",
          "text": [
            "\n",
            "Here is a list of the Python keywords.  Enter any keyword to get more help.\n",
            "\n",
            "False               break               for                 not\n",
            "None                class               from                or\n",
            "True                continue            global              pass\n",
            "__peg_parser__      def                 if                  raise\n",
            "and                 del                 import              return\n",
            "as                  elif                in                  try\n",
            "assert              else                is                  while\n",
            "async               except              lambda              with\n",
            "await               finally             nonlocal            yield\n",
            "\n"
          ]
        }
      ]
    },
    {
      "cell_type": "markdown",
      "source": [
        "# 2. Python built-in data types (not only) lists, tuples, sets, strings\n",
        "---\n",
        "Data types are the classification or categorization of data items.              \n",
        "It represents the kind of value that tells what operations can be performed on a particular data.                                                              The following are the built-in or standard data types in Python: "
      ],
      "metadata": {
        "id": "l8Z9UdqVEGHU"
      }
    },
    {
      "cell_type": "markdown",
      "source": [
        "\n",
        "\n",
        "---\n",
        "![image.png](data:image/png;base64,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)\n",
        "\n",
        "Figure 2\n"
      ],
      "metadata": {
        "id": "q4gdEsqdVpSZ"
      }
    },
    {
      "cell_type": "code",
      "source": [
        "# DataType Output: int\n",
        "x = 43\n",
        "\n",
        "print(x)\n",
        "print(type(x)) # You can get the variable data type with the type() function.\n",
        "print(id(x))   # The id() function  returns the object's memory address"
      ],
      "metadata": {
        "colab": {
          "base_uri": "https://localhost:8080/"
        },
        "id": "BoYCSJF0rxSs",
        "outputId": "e21c8e37-e10a-4422-86e7-a48e61b0cba2"
      },
      "execution_count": null,
      "outputs": [
        {
          "output_type": "stream",
          "name": "stdout",
          "text": [
            "43\n",
            "<class 'int'>\n",
            "140385711677040\n"
          ]
        }
      ]
    },
    {
      "cell_type": "code",
      "source": [
        "\n",
        "# DataType Output: float\n",
        "x = 300.5\n",
        "\n",
        "print(x)\n",
        "print(type(x))\n",
        "print('id(x):', id(x))"
      ],
      "metadata": {
        "colab": {
          "base_uri": "https://localhost:8080/"
        },
        "id": "BYj9r2DGsHjn",
        "outputId": "0cd6f065-2075-48e7-a0ca-b41a004a084e"
      },
      "execution_count": null,
      "outputs": [
        {
          "output_type": "stream",
          "name": "stdout",
          "text": [
            "300.5\n",
            "<class 'float'>\n",
            "id(x): 140385172612400\n"
          ]
        }
      ]
    },
    {
      "cell_type": "code",
      "source": [
        "# DataType Output: bool\n",
        "x = True\n",
        "print(x)\n",
        "print(type(x))\n",
        "print('id(x):', id(x))"
      ],
      "metadata": {
        "colab": {
          "base_uri": "https://localhost:8080/"
        },
        "id": "A4tJOoUHPekP",
        "outputId": "4df13832-bf2a-47f8-b38a-540da953d149"
      },
      "execution_count": null,
      "outputs": [
        {
          "output_type": "stream",
          "name": "stdout",
          "text": [
            "True\n",
            "<class 'bool'>\n",
            "id(x): 9758592\n"
          ]
        }
      ]
    },
    {
      "cell_type": "code",
      "source": [
        "print(10 > 9)\n",
        "print(10 == 9)\n",
        "print(10 < 9)"
      ],
      "metadata": {
        "colab": {
          "base_uri": "https://localhost:8080/"
        },
        "id": "whqTUgRuPyZI",
        "outputId": "d7ed4801-ef4e-4621-ee53-ea3410327e91"
      },
      "execution_count": null,
      "outputs": [
        {
          "output_type": "stream",
          "name": "stdout",
          "text": [
            "True\n",
            "False\n",
            "False\n"
          ]
        }
      ]
    },
    {
      "cell_type": "code",
      "source": [
        "# DataType Output: None\n",
        "\n",
        "x = None\n",
        "\n",
        "print(x)\n",
        "print(type(x))\n",
        "print('id(x):', id(x))"
      ],
      "metadata": {
        "colab": {
          "base_uri": "https://localhost:8080/"
        },
        "id": "XLKEhP1OXR85",
        "outputId": "6b0b8664-e6cd-4bb3-becb-395720058aae"
      },
      "execution_count": null,
      "outputs": [
        {
          "output_type": "stream",
          "name": "stdout",
          "text": [
            "None\n",
            "<class 'NoneType'>\n",
            "id(x): 9760320\n"
          ]
        }
      ]
    },
    {
      "cell_type": "code",
      "source": [
        "# DataType Output: list\n",
        "\n",
        "x = []                       # Empty list \n",
        "\n",
        "print(x)\n",
        "print(type(x))               # What is the data type of a list\n",
        "print('id(x):', id(x))\n",
        "print('length of x:', len(x)) "
      ],
      "metadata": {
        "colab": {
          "base_uri": "https://localhost:8080/"
        },
        "id": "aMKyPIlNYXSn",
        "outputId": "82b31eb9-4f30-4354-f868-c6f166b64112"
      },
      "execution_count": null,
      "outputs": [
        {
          "output_type": "stream",
          "name": "stdout",
          "text": [
            "[]\n",
            "<class 'list'>\n",
            "id(x): 140385690580416\n",
            "length of x: 0\n"
          ]
        }
      ]
    },
    {
      "cell_type": "code",
      "source": [
        "x = [1, 2, True, \"Hello\"]\n",
        "\n",
        "print(x)\n",
        "print(type(x))\n",
        "print('id(x):', id(x))\n",
        "print('length of x:', len(x))\n"
      ],
      "metadata": {
        "colab": {
          "base_uri": "https://localhost:8080/"
        },
        "id": "VJ5i5fjTgu9L",
        "outputId": "6079f555-2ee0-4ea1-f536-7a268171f35c"
      },
      "execution_count": null,
      "outputs": [
        {
          "output_type": "stream",
          "name": "stdout",
          "text": [
            "[1, 2, True, 'Hello']\n",
            "<class 'list'>\n",
            "id(x): 140385690746368\n",
            "length of x: 4\n"
          ]
        }
      ]
    },
    {
      "cell_type": "code",
      "source": [
        "x = list((23, 56, 78)) # The list() Constructor - note the double round-brackets\n",
        "print(x)"
      ],
      "metadata": {
        "colab": {
          "base_uri": "https://localhost:8080/"
        },
        "id": "hWvzNb5-h3Pr",
        "outputId": "e192e1bb-64b6-40ee-8e44-e2fe1b129e21"
      },
      "execution_count": null,
      "outputs": [
        {
          "output_type": "stream",
          "name": "stdout",
          "text": [
            "[23, 56, 78]\n"
          ]
        }
      ]
    },
    {
      "cell_type": "code",
      "source": [
        "y=x[0]\n",
        "y"
      ],
      "metadata": {
        "colab": {
          "base_uri": "https://localhost:8080/"
        },
        "id": "scxoxD06jkqH",
        "outputId": "4e9025b9-e0a6-42ef-d2dd-eebd5cc241fb"
      },
      "execution_count": null,
      "outputs": [
        {
          "output_type": "execute_result",
          "data": {
            "text/plain": [
              "23"
            ]
          },
          "metadata": {},
          "execution_count": 14
        }
      ]
    },
    {
      "cell_type": "code",
      "source": [
        "help(list)\n"
      ],
      "metadata": {
        "id": "A3rd484PkhHP"
      },
      "execution_count": null,
      "outputs": []
    },
    {
      "cell_type": "code",
      "source": [
        "x.reverse() # The reverse() method reverses the elements of the list.\n",
        "x\n"
      ],
      "metadata": {
        "colab": {
          "base_uri": "https://localhost:8080/"
        },
        "id": "bj3y4-URkuVi",
        "outputId": "6eff440b-2e76-4b4a-ba05-a4dec51d3c3b"
      },
      "execution_count": null,
      "outputs": [
        {
          "output_type": "execute_result",
          "data": {
            "text/plain": [
              "[78, 56, 23]"
            ]
          },
          "metadata": {},
          "execution_count": 16
        }
      ]
    },
    {
      "cell_type": "code",
      "source": [
        "x.append(67) # The append() method appends an element to the end of the list.\n",
        "x"
      ],
      "metadata": {
        "colab": {
          "base_uri": "https://localhost:8080/"
        },
        "id": "oJIHY3Fel64L",
        "outputId": "16210fea-d668-4142-8be7-c470a97d4a6a"
      },
      "execution_count": null,
      "outputs": [
        {
          "output_type": "execute_result",
          "data": {
            "text/plain": [
              "[78, 56, 23, 67]"
            ]
          },
          "metadata": {},
          "execution_count": 17
        }
      ]
    },
    {
      "cell_type": "code",
      "source": [
        "# DataType Output: tuple\n",
        "x = (\"Sun\", \"Moon\", \"Earth\")\n",
        "print(x)\n",
        "print(type(x))\n",
        "print('id(x):', id(x))\n",
        "print('length of x:', len(x))\n",
        "# print(x[2])\n"
      ],
      "metadata": {
        "colab": {
          "base_uri": "https://localhost:8080/"
        },
        "id": "Q9zLIMwXtJDI",
        "outputId": "7fee4be5-0137-4c17-b10a-70ca8428b40a"
      },
      "execution_count": null,
      "outputs": [
        {
          "output_type": "stream",
          "name": "stdout",
          "text": [
            "('Sun', 'Moon', 'Earth')\n",
            "<class 'tuple'>\n",
            "id(x): 140385204832640\n",
            "length of x: 3\n"
          ]
        }
      ]
    },
    {
      "cell_type": "code",
      "source": [
        "y = (\"Earth\",)\n",
        "print(y)\n",
        "print(type(y))\n",
        "x_plus = x + y   # Concatenation is only possible with tuples. It can't be concatenated to other kinds, such lists\n",
        "print(x_plus)"
      ],
      "metadata": {
        "colab": {
          "base_uri": "https://localhost:8080/"
        },
        "id": "jZBXTgJqugzS",
        "outputId": "f67265f0-c842-4502-c491-bb4c4124843f"
      },
      "execution_count": null,
      "outputs": [
        {
          "output_type": "stream",
          "name": "stdout",
          "text": [
            "('Earth',)\n",
            "<class 'tuple'>\n",
            "('Sun', 'Moon', 'Earth', 'Earth')\n"
          ]
        }
      ]
    },
    {
      "cell_type": "code",
      "source": [
        "# DataType Output: string\n",
        "x = \"Hello, World!\"\n",
        "print(x, \"\\n\")\n",
        "print(type(x))\n",
        "print(len(x))"
      ],
      "metadata": {
        "colab": {
          "base_uri": "https://localhost:8080/"
        },
        "id": "6LY_4ySC54mH",
        "outputId": "e246d993-f767-4dc8-b9d2-c126b8156afd"
      },
      "execution_count": null,
      "outputs": [
        {
          "output_type": "stream",
          "name": "stdout",
          "text": [
            "Hello, World! \n",
            "\n",
            "<class 'str'>\n",
            "13\n"
          ]
        }
      ]
    },
    {
      "cell_type": "code",
      "source": [
        "print(x[7])"
      ],
      "metadata": {
        "colab": {
          "base_uri": "https://localhost:8080/"
        },
        "id": "H7TTY5yi7DJ1",
        "outputId": "5e2af404-069b-48de-b26b-aa98c8c3b412"
      },
      "execution_count": null,
      "outputs": [
        {
          "output_type": "stream",
          "name": "stdout",
          "text": [
            "W\n"
          ]
        }
      ]
    },
    {
      "cell_type": "code",
      "source": [
        "print(\"l\" in x) # Check if \"l\" is present in the text: \"Hello, World!\""
      ],
      "metadata": {
        "colab": {
          "base_uri": "https://localhost:8080/"
        },
        "id": "tx_0XUIg7Qz4",
        "outputId": "80f4e68a-63c8-42ff-992c-82f25ba32999"
      },
      "execution_count": null,
      "outputs": [
        {
          "output_type": "stream",
          "name": "stdout",
          "text": [
            "True\n"
          ]
        }
      ]
    },
    {
      "cell_type": "code",
      "source": [
        "Check String\n",
        "To check if a certain phrase or character is present in a string, we can use the keyword in.\n",
        "\n",
        "Example\n",
        "Check if \"free\" is present in the following text:\n",
        "\n",
        "txt = \"The best things in life are free!\"\n",
        "print(\"free\" in txt)"
      ],
      "metadata": {
        "id": "TkxMrHrH6JXB"
      },
      "execution_count": null,
      "outputs": []
    },
    {
      "cell_type": "code",
      "source": [
        "# DataType Output: set\n",
        "x = {'math','chemistry','art'}\n",
        "print(x, \"\\n\")\n",
        "print(type(x))"
      ],
      "metadata": {
        "colab": {
          "base_uri": "https://localhost:8080/"
        },
        "id": "xs8ZfRr1ylnA",
        "outputId": "6a5fe048-1a63-4eff-aae7-6e89401af735"
      },
      "execution_count": null,
      "outputs": [
        {
          "output_type": "stream",
          "name": "stdout",
          "text": [
            "{'chemistry', 'art', 'math'} \n",
            "\n",
            "<class 'set'>\n"
          ]
        }
      ]
    },
    {
      "cell_type": "code",
      "source": [
        "set1 = {\"abc\", 34, True, 40, \"male\"}\n",
        "print(set1, \"\\n\")\n",
        "print(type(set1))"
      ],
      "metadata": {
        "colab": {
          "base_uri": "https://localhost:8080/"
        },
        "id": "Y5qGhXK9z6or",
        "outputId": "948e2e77-83ac-474f-d2e8-07dce35cb829"
      },
      "execution_count": null,
      "outputs": [
        {
          "output_type": "stream",
          "name": "stdout",
          "text": [
            "{True, 34, 'male', 40, 'abc'} \n",
            "\n",
            "<class 'set'>\n"
          ]
        }
      ]
    },
    {
      "cell_type": "code",
      "source": [
        "set1.remove(40)   #The remove() method removes the specified element from the set.\n",
        "set1"
      ],
      "metadata": {
        "colab": {
          "base_uri": "https://localhost:8080/"
        },
        "id": "vz2zpd890yKL",
        "outputId": "6d318666-7132-4d9f-c083-74c6ef152b8a"
      },
      "execution_count": null,
      "outputs": [
        {
          "output_type": "execute_result",
          "data": {
            "text/plain": [
              "{34, 'abc', 'male'}"
            ]
          },
          "metadata": {},
          "execution_count": 31
        }
      ]
    },
    {
      "cell_type": "code",
      "source": [
        "# DataType Output: dictionary\n",
        "x = { \n",
        "  \"name\": \"Flora\",\n",
        "  \"surname\": \"Fauna\",\n",
        "  \"year\": 2002\n",
        "}\n",
        "print(x, \"\\n\")\n",
        "print(type(x))\n",
        "print(x[\"year\"])\n"
      ],
      "metadata": {
        "colab": {
          "base_uri": "https://localhost:8080/"
        },
        "id": "990TXR3_orSp",
        "outputId": "a00f85a9-7cca-4408-b10d-39a0178fb054"
      },
      "execution_count": null,
      "outputs": [
        {
          "output_type": "stream",
          "name": "stdout",
          "text": [
            "{'name': 'Flora', 'surname': 'Fauna', 'year': 2002} \n",
            "\n",
            "<class 'dict'>\n",
            "2002\n"
          ]
        }
      ]
    },
    {
      "cell_type": "code",
      "source": [
        "x = { \n",
        "  \"name\": \"Flora\",\n",
        "  \"surname\": \"Fauna\",\n",
        "  \"year\": 2002,\n",
        "  \"year\": 1980\n",
        "}\n",
        "x\n"
      ],
      "metadata": {
        "colab": {
          "base_uri": "https://localhost:8080/"
        },
        "id": "A9wMXAXopyqp",
        "outputId": "397b3b65-54f9-4b1b-af1a-840045c98051"
      },
      "execution_count": null,
      "outputs": [
        {
          "output_type": "execute_result",
          "data": {
            "text/plain": [
              "{'name': 'Flora', 'surname': 'Fauna', 'year': 1980}"
            ]
          },
          "metadata": {},
          "execution_count": 33
        }
      ]
    },
    {
      "cell_type": "code",
      "source": [
        "print(len(x))"
      ],
      "metadata": {
        "colab": {
          "base_uri": "https://localhost:8080/"
        },
        "id": "oRPVSlQjqSSj",
        "outputId": "73e11cf9-4397-410e-b7e4-fcb0e76e2e35"
      },
      "execution_count": null,
      "outputs": [
        {
          "output_type": "stream",
          "name": "stdout",
          "text": [
            "3\n"
          ]
        }
      ]
    },
    {
      "cell_type": "code",
      "source": [
        "y = dict( name = 'Flora', surname = 'Fauna', year = 2002)\n",
        "y"
      ],
      "metadata": {
        "colab": {
          "base_uri": "https://localhost:8080/"
        },
        "id": "0hSaRpaorhr0",
        "outputId": "2c9d9432-a418-4456-ac3b-bc79574c344d"
      },
      "execution_count": null,
      "outputs": [
        {
          "output_type": "execute_result",
          "data": {
            "text/plain": [
              "{'name': 'Flora', 'surname': 'Fauna', 'year': 2002}"
            ]
          },
          "metadata": {},
          "execution_count": 88
        }
      ]
    },
    {
      "cell_type": "markdown",
      "source": [
        "A mutable object can be changed after it is created.                            \n",
        "\n",
        "*   List\n",
        "*   Set\n",
        "*   Dictionary\n",
        "*   Array\n",
        "\n",
        "\n",
        "An immutable object cannot be changed after it is created.\n",
        "\n",
        "*   Int, Float, Complex\n",
        "*   Bool\n",
        "*   Tuple\n",
        "*   Str\n"
      ],
      "metadata": {
        "id": "hz9iMds2pnO1"
      }
    },
    {
      "cell_type": "code",
      "source": [],
      "metadata": {
        "id": "vjX47eya52s9"
      },
      "execution_count": null,
      "outputs": []
    },
    {
      "cell_type": "markdown",
      "source": [
        "## 4. Python operators \n",
        "Python divides the operators in the following groups:\n",
        "\n",
        "*   Arithmetic operators: \n",
        "   ( x + y ), ( x - y\t), (x * y), (\tx / y\t),\n",
        "(\tx % y\t), ( x ** y ), ( x // y )\n",
        "\n",
        "*   Assignment operators: =, +=, -=, *=, ..., &=, |=, ^=, >>=, <<= \n",
        "*   Comparison operators: ==, !=, >, <, >=, <=\n",
        "*   Logical operators: and, or, not\n",
        "*   Identity operators: is, is not\n",
        "*   Membership operators: in, not in\n",
        "*   Bitwise operators\n"
      ],
      "metadata": {
        "id": "ayh4Kq6REc6B"
      }
    },
    {
      "cell_type": "markdown",
      "source": [
        "## 5 Control flow statements: conditional operators, loop statements, range()\n",
        "\n",
        " *   Conditional operator: If ... \n"
      ],
      "metadata": {
        "id": "ZJ3l1vViLRHH"
      }
    },
    {
      "cell_type": "code",
      "source": [
        "a = 33\n",
        "b = 200\n",
        "if b > a:\n",
        "   print(\"b is greater than a\")"
      ],
      "metadata": {
        "colab": {
          "base_uri": "https://localhost:8080/"
        },
        "id": "Ub-KTEt6MIoN",
        "outputId": "95c3a0bf-861a-4620-c51a-7bc89286394f"
      },
      "execution_count": null,
      "outputs": [
        {
          "output_type": "stream",
          "name": "stdout",
          "text": [
            "b is greater than a\n"
          ]
        }
      ]
    },
    {
      "cell_type": "markdown",
      "source": [
        "*   Conditional operators: If ... Elif... Else\n"
      ],
      "metadata": {
        "id": "_AoiMse8M5po"
      }
    },
    {
      "cell_type": "code",
      "source": [
        "a = 200\n",
        "b = 33\n",
        "if b > a:\n",
        "  print(\"b is greater than a\")\n",
        "elif a == b:\n",
        "  print(\"a and b are equal\")\n",
        "else:\n",
        "  print(\"a is greater than b\")"
      ],
      "metadata": {
        "colab": {
          "base_uri": "https://localhost:8080/"
        },
        "id": "2Dn1r3l_MyE3",
        "outputId": "11c8f803-9c90-44bc-a520-6c37f48c7a04"
      },
      "execution_count": null,
      "outputs": [
        {
          "output_type": "stream",
          "name": "stdout",
          "text": [
            "a is greater than b\n"
          ]
        }
      ]
    },
    {
      "cell_type": "markdown",
      "source": [
        "### Indentation\n",
        "Python relies on indentation (whitespace at the beginning of a line) to define scope in the code."
      ],
      "metadata": {
        "id": "AVPr5uguMPuM"
      }
    },
    {
      "cell_type": "markdown",
      "source": [
        "*   Loops\n",
        "\n",
        "Python has two primitive loop commands:\n",
        "\n",
        "\n",
        "*   while loops\n",
        "*   for loops\n",
        "\n"
      ],
      "metadata": {
        "id": "p7df91QSNWlj"
      }
    },
    {
      "cell_type": "markdown",
      "source": [
        "### The while loop\n",
        "\n",
        "With the while loop we can execute a set of statements as long as a condition is true"
      ],
      "metadata": {
        "id": "YJi95Pk6XJ8L"
      }
    },
    {
      "cell_type": "code",
      "source": [
        "# Print i as long as i is less than 6:\n",
        "i = 1\n",
        "while i < 6:\n",
        "  print(i)\n",
        "  i += 1\n",
        "\n"
      ],
      "metadata": {
        "colab": {
          "base_uri": "https://localhost:8080/"
        },
        "id": "-M-6a4SSXzkR",
        "outputId": "5ae839d9-778f-4457-8d64-0afc109a6955"
      },
      "execution_count": null,
      "outputs": [
        {
          "output_type": "stream",
          "name": "stdout",
          "text": [
            "1\n",
            "2\n",
            "3\n",
            "4\n",
            "5\n"
          ]
        }
      ]
    },
    {
      "cell_type": "markdown",
      "source": [
        "### The for loop\n",
        "A **for** loop is used for iterating over a sequence (that is either a list, a tuple, a dictionary, a set, or a string).\n",
        "\n",
        "This is less like the for keyword in other programming languages, and works more like an iterator method as found in other                                    object-orientated programming languages.\n",
        "\n",
        "With the for loop one can execute a set of statements, once for each item in a list, tuple, set etc."
      ],
      "metadata": {
        "id": "JwDt2g1DWz9V"
      }
    },
    {
      "cell_type": "code",
      "source": [
        "vegetables = [\"potato\", \"tomato\", \"carrot\"]\n",
        "for p in vegetables:\n",
        "  print(p)\n"
      ],
      "metadata": {
        "colab": {
          "base_uri": "https://localhost:8080/"
        },
        "id": "h9ScWeYWOw7H",
        "outputId": "66e4abee-8abf-4943-9242-c2f8436b29c3"
      },
      "execution_count": null,
      "outputs": [
        {
          "output_type": "stream",
          "name": "stdout",
          "text": [
            "potato\n",
            "tomato\n",
            "carrot\n"
          ]
        }
      ]
    },
    {
      "cell_type": "code",
      "source": [
        "# Looping Through a String\n",
        "\n",
        "for p in \"vegetables\":\n",
        "  print(p)\n"
      ],
      "metadata": {
        "colab": {
          "base_uri": "https://localhost:8080/"
        },
        "id": "QuAcGZ9hPg0M",
        "outputId": "b63e3bda-f97d-4f1e-8511-0c655d3163d0"
      },
      "execution_count": null,
      "outputs": [
        {
          "output_type": "stream",
          "name": "stdout",
          "text": [
            "v\n",
            "e\n",
            "g\n",
            "e\n",
            "t\n",
            "a\n",
            "b\n",
            "l\n",
            "e\n",
            "s\n"
          ]
        }
      ]
    },
    {
      "cell_type": "code",
      "source": [
        "# The break Statement and the continue Statement\n",
        "vegetables = [\"potato\", \"tomato\", \"carrot\", \"cabbage\", \"cucumber\"]\n",
        "for p in vegetables:\n",
        "  if p == \"tomato\": continue\n",
        "# if p == \"cabbage\": break\n",
        "  print(p)"
      ],
      "metadata": {
        "colab": {
          "base_uri": "https://localhost:8080/"
        },
        "id": "1ksqvSFjP-it",
        "outputId": "5a4788ec-b0f5-46aa-d912-71cfb46893af"
      },
      "execution_count": null,
      "outputs": [
        {
          "output_type": "stream",
          "name": "stdout",
          "text": [
            "potato\n",
            "carrot\n",
            "cabbage\n",
            "cucumber\n"
          ]
        }
      ]
    },
    {
      "cell_type": "markdown",
      "source": [
        "### The range() Function\n",
        "The range() function returns a sequence of numbers, starting from 0 by default, and increments by 1 (by default) and ends at a specified number"
      ],
      "metadata": {
        "id": "TqyFEwDdRpqI"
      }
    },
    {
      "cell_type": "code",
      "source": [
        "for x in range(6):\n",
        "  print(x)\n"
      ],
      "metadata": {
        "colab": {
          "base_uri": "https://localhost:8080/"
        },
        "id": "9C-TYMB8R_OB",
        "outputId": "72ff1648-7366-4187-c0a1-3c623ed1d5c6"
      },
      "execution_count": null,
      "outputs": [
        {
          "output_type": "stream",
          "name": "stdout",
          "text": [
            "0\n",
            "1\n",
            "2\n",
            "3\n",
            "4\n",
            "5\n"
          ]
        }
      ]
    },
    {
      "cell_type": "code",
      "source": [
        "for x in range(2,8,2):\n",
        "  print(x)"
      ],
      "metadata": {
        "colab": {
          "base_uri": "https://localhost:8080/"
        },
        "id": "eUgIPTYaSfHc",
        "outputId": "dd1b745b-b24e-4d13-80d5-96cd18049fe2"
      },
      "execution_count": null,
      "outputs": [
        {
          "output_type": "stream",
          "name": "stdout",
          "text": [
            "2\n",
            "4\n",
            "6\n"
          ]
        }
      ]
    },
    {
      "cell_type": "markdown",
      "source": [
        "## 6. Functions \n",
        "### Python Indentation\n",
        "\n",
        "*   Indentation refers to the spaces at the beginning of a code line.\n",
        "*   The indentation in Python is very important, not only for readability\n",
        "*   Python uses indentation to indicate a block of code.\n",
        "\n",
        "### Python Functions\n",
        "A function is a block of code which only runs when it is called.                   \n",
        "You can pass data, known as parameters, into a function.                                                \n",
        "A function can return data as a result.\n",
        "________________________________________\n"
      ],
      "metadata": {
        "id": "9Lsh8VMr8Mgu"
      }
    },
    {
      "cell_type": "code",
      "source": [
        "# Creating a Function\n",
        "\n",
        "def my_function():\n",
        "  print(\"Hello from a function\")\n",
        "\n",
        "# Calling the Function\n",
        "\n",
        "my_function()"
      ],
      "metadata": {
        "colab": {
          "base_uri": "https://localhost:8080/"
        },
        "id": "Ceboh_9fguEt",
        "outputId": "f80d3ac2-302b-49a9-ff6c-d68289fd2087"
      },
      "execution_count": null,
      "outputs": [
        {
          "output_type": "stream",
          "name": "stdout",
          "text": [
            "Hello from a function\n"
          ]
        }
      ]
    },
    {
      "cell_type": "code",
      "source": [
        "# Creating a Function with parameters\n",
        "\n",
        "def my_function(name,surname):\n",
        "  print(\"name \", name,\", surname\", surname)\n",
        "\n",
        "# Calling the Function with arguments\n",
        "\n",
        "my_function(\"Flora\",\"Fauna\")"
      ],
      "metadata": {
        "colab": {
          "base_uri": "https://localhost:8080/"
        },
        "id": "bXf6ph7K_Fwu",
        "outputId": "f264b56f-663d-47e2-afb8-48226986c955"
      },
      "execution_count": null,
      "outputs": [
        {
          "output_type": "stream",
          "name": "stdout",
          "text": [
            "name  Flora , surname Fauna\n"
          ]
        }
      ]
    },
    {
      "cell_type": "code",
      "source": [
        "# Creating a Function with parameters returning value\n",
        "\n",
        "def my_function(name,surname):\n",
        "  print(\"name \", name,\", surname\", surname)\n",
        "  return len(name) + len(surname)\n",
        "\n",
        "# Calling the Function with arguments\n",
        "\n",
        "print(my_function(\"Flora\",\"Fauna\"))\n"
      ],
      "metadata": {
        "id": "8OIQrpFvAm9r"
      },
      "execution_count": null,
      "outputs": []
    },
    {
      "cell_type": "code",
      "source": [
        "  # Creating a Function with empty content\n",
        "def myfunction():\n",
        "    pass\n"
      ],
      "metadata": {
        "id": "T-BKqQQJBklH"
      },
      "execution_count": null,
      "outputs": []
    },
    {
      "cell_type": "markdown",
      "source": [
        "## 7. Useful references "
      ],
      "metadata": {
        "id": "iGSzVZsp-5l7"
      }
    },
    {
      "cell_type": "markdown",
      "source": [
        "https://www.w3schools.com/python/python_numbers.asp\n",
        "\n",
        "https://www.tutorialsteacher.com/python/python-variables\n",
        "\n",
        "https://realpython.com/\n"
      ],
      "metadata": {
        "id": "oLN0MHkW_MeL"
      }
    }
  ]
}